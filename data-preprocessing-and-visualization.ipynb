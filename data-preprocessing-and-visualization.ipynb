{
 "cells": [
  {
   "cell_type": "markdown",
   "id": "c4cdc6e3",
   "metadata": {},
   "source": [
    "# Palmer Penguins Dataset\n",
    "\n",
    "This dataset contains size measurements, island locations, and species for three penguin species observed in the Palmer Archipelago, Antarctica. \n",
    "It includes variables like bill length, body mass, sex, and species — making it a great dataset for practicing data preprocessing, cleaning, \n",
    "and visualizations using `pandas`, `matplotlib`, and `seaborn`."
   ]
  },
  {
   "cell_type": "markdown",
   "id": "783b7e85",
   "metadata": {},
   "source": [
    "Let's start with installing the required Python packages."
   ]
  },
  {
   "cell_type": "code",
   "execution_count": null,
   "id": "7a615843",
   "metadata": {},
   "outputs": [],
   "source": [
    "%pip install pandas\n",
    "%pip install seaborn"
   ]
  },
  {
   "cell_type": "code",
   "execution_count": null,
   "id": "999af531",
   "metadata": {},
   "outputs": [],
   "source": [
    "import seaborn as sns\n",
    "import pandas as pd\n",
    "import matplotlib.pyplot as plt"
   ]
  },
  {
   "cell_type": "code",
   "execution_count": null,
   "id": "a5bef8ef",
   "metadata": {},
   "outputs": [],
   "source": [
    "# Load the dataset\n",
    "df = sns.load_dataset(\"penguins\")"
   ]
  },
  {
   "cell_type": "code",
   "execution_count": null,
   "id": "8e3f5a3a",
   "metadata": {},
   "outputs": [],
   "source": [
    "# Quick overview\n",
    "df.head()"
   ]
  },
  {
   "cell_type": "code",
   "execution_count": null,
   "id": "467cb4cd",
   "metadata": {},
   "outputs": [],
   "source": [
    "# Check for datatypes and NaN values\n",
    "df.info()"
   ]
  },
  {
   "cell_type": "code",
   "execution_count": null,
   "id": "7fea7b45",
   "metadata": {},
   "outputs": [],
   "source": [
    "# Check missing values\n",
    "print(df.isnull().sum())"
   ]
  },
  {
   "cell_type": "code",
   "execution_count": null,
   "id": "b0c2bccf",
   "metadata": {},
   "outputs": [],
   "source": [
    "# Drop rows with missing values (simplest option for this example)\n",
    "df_clean = df.dropna()"
   ]
  },
  {
   "cell_type": "code",
   "execution_count": null,
   "id": "d5ad38b0",
   "metadata": {},
   "outputs": [],
   "source": [
    "# Histogram of bill length\n",
    "plt.hist(df_clean[\"bill_length_mm\"], bins=20, color=\"skyblue\", edgecolor=\"black\")\n",
    "plt.title(\"Distribution of Bill Length\")\n",
    "plt.xlabel(\"Bill Length (mm)\")\n",
    "plt.ylabel(\"Frequency\")\n",
    "plt.show()"
   ]
  },
  {
   "cell_type": "code",
   "execution_count": null,
   "id": "80d07be2",
   "metadata": {},
   "outputs": [],
   "source": [
    "# Box plot of body mass by species\n",
    "sns.boxplot(data=df_clean, x=\"species\", y=\"body_mass_g\", palette=\"pastel\")\n",
    "plt.title(\"Body Mass Distribution by Species\")\n",
    "plt.ylabel(\"Body Mass (g)\")\n",
    "plt.show()"
   ]
  },
  {
   "cell_type": "code",
   "execution_count": null,
   "id": "6ee5ab22",
   "metadata": {},
   "outputs": [],
   "source": [
    "# Scatterplot to explore relationships\n",
    "sns.scatterplot(data=df_clean, x=\"bill_length_mm\", y=\"bill_depth_mm\", hue=\"species\", style=\"sex\")\n",
    "plt.title(\"Bill Length vs. Depth by Species and Sex\")\n",
    "plt.xlabel(\"Bill Length (mm)\")\n",
    "plt.ylabel(\"Bill Depth (mm)\")\n",
    "plt.legend()\n",
    "plt.show()"
   ]
  },
  {
   "cell_type": "code",
   "execution_count": null,
   "id": "cbb3449c",
   "metadata": {},
   "outputs": [],
   "source": []
  }
 ],
 "metadata": {
  "kernelspec": {
   "display_name": ".venv",
   "language": "python",
   "name": "python3"
  },
  "language_info": {
   "codemirror_mode": {
    "name": "ipython",
    "version": 3
   },
   "file_extension": ".py",
   "mimetype": "text/x-python",
   "name": "python",
   "nbconvert_exporter": "python",
   "pygments_lexer": "ipython3",
   "version": "3.10.12"
  }
 },
 "nbformat": 4,
 "nbformat_minor": 5
}
