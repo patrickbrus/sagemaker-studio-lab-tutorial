{
 "cells": [
  {
   "cell_type": "markdown",
   "id": "e0043cab",
   "metadata": {},
   "source": [
    "# Simple Regression\n",
    "This notebook trains a simple regression model using the Iris dataset."
   ]
  },
  {
   "cell_type": "markdown",
   "id": "3f4a1c47",
   "metadata": {},
   "source": [
    "Let's first install the required packages."
   ]
  },
  {
   "cell_type": "code",
   "execution_count": null,
   "id": "6ee9a7f9",
   "metadata": {},
   "outputs": [],
   "source": [
    "%pip install seaborn\n",
    "%pip install matplotlib\n",
    "%pip install scikit-learn"
   ]
  },
  {
   "cell_type": "code",
   "execution_count": null,
   "id": "d7474b67",
   "metadata": {},
   "outputs": [],
   "source": [
    "import seaborn as sns\n",
    "import matplotlib.pyplot as plt\n",
    "from sklearn.linear_model import LinearRegression\n",
    "from sklearn.model_selection import train_test_split\n",
    "from sklearn.metrics import mean_squared_error, r2_score"
   ]
  },
  {
   "cell_type": "code",
   "execution_count": null,
   "id": "3901fde9",
   "metadata": {},
   "outputs": [],
   "source": [
    "# Load dataset\n",
    "df = sns.load_dataset(\"iris\")"
   ]
  },
  {
   "cell_type": "code",
   "execution_count": null,
   "id": "bd28b5fb",
   "metadata": {},
   "outputs": [],
   "source": [
    "# Visualize the relationship\n",
    "sns.scatterplot(data=df, x=\"sepal_length\", y=\"petal_length\", hue=\"species\")\n",
    "plt.title(\"Sepal Length vs Petal Length\")\n",
    "plt.show()"
   ]
  },
  {
   "cell_type": "code",
   "execution_count": null,
   "id": "e51026f1",
   "metadata": {},
   "outputs": [],
   "source": [
    "# Select features\n",
    "X = df[[\"sepal_length\"]]\n",
    "y = df[\"petal_length\"]"
   ]
  },
  {
   "cell_type": "code",
   "execution_count": null,
   "id": "5ab80d91",
   "metadata": {},
   "outputs": [],
   "source": [
    "# Train/test split\n",
    "X_train, X_test, y_train, y_test = train_test_split(X, y, test_size=0.2, random_state=42)"
   ]
  },
  {
   "cell_type": "code",
   "execution_count": null,
   "id": "ab62a1e7",
   "metadata": {},
   "outputs": [],
   "source": [
    "# Fit model\n",
    "model = LinearRegression()\n",
    "model.fit(X_train, y_train)\n",
    "y_pred = model.predict(X_test)"
   ]
  },
  {
   "cell_type": "code",
   "execution_count": null,
   "id": "7bacff55",
   "metadata": {},
   "outputs": [],
   "source": [
    "# Evaluation\n",
    "print(\"MSE:\", mean_squared_error(y_test, y_pred))\n",
    "print(\"R² Score:\", r2_score(y_test, y_pred))"
   ]
  },
  {
   "cell_type": "code",
   "execution_count": null,
   "id": "73ac9fac",
   "metadata": {},
   "outputs": [],
   "source": [
    "# Plot regression line\n",
    "plt.figure(figsize=(8, 5))\n",
    "sns.regplot(x=X_test[\"sepal_length\"], y=y_test, ci=None, label=\"Actual\", scatter_kws={\"s\": 50})\n",
    "plt.plot(X_test[\"sepal_length\"], y_pred, color=\"red\", label=\"Predicted\", linewidth=2)\n",
    "plt.title(\"Linear Regression: Predicting Petal Length\")\n",
    "plt.xlabel(\"Sepal Length\")\n",
    "plt.ylabel(\"Petal Length\")\n",
    "plt.legend()\n",
    "plt.show()"
   ]
  },
  {
   "cell_type": "code",
   "execution_count": null,
   "id": "104beb96",
   "metadata": {},
   "outputs": [],
   "source": []
  }
 ],
 "metadata": {
  "kernelspec": {
   "display_name": ".venv",
   "language": "python",
   "name": "python3"
  },
  "language_info": {
   "codemirror_mode": {
    "name": "ipython",
    "version": 3
   },
   "file_extension": ".py",
   "mimetype": "text/x-python",
   "name": "python",
   "nbconvert_exporter": "python",
   "pygments_lexer": "ipython3",
   "version": "3.10.12"
  }
 },
 "nbformat": 4,
 "nbformat_minor": 5
}
